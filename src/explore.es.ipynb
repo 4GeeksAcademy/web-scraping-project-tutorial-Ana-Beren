{
    "cells": [
        {
            "cell_type": "markdown",
            "metadata": {},
            "source": [
                "# Explora aquí\n",
                "\n",
                "Se recomienda utilizar este cuaderno con fines de exploración."
            ]
        },
        {
            "cell_type": "markdown",
            "metadata": {},
            "source": [
                "1. DESCARGAR EL HTML"
            ]
        },
        {
            "cell_type": "code",
            "execution_count": 1,
            "metadata": {},
            "outputs": [],
            "source": [
                "import requests\n",
                "import time\n",
                "from bs4 import BeautifulSoup\n",
                "\n"
            ]
        },
        {
            "cell_type": "code",
            "execution_count": 2,
            "metadata": {},
            "outputs": [
                {
                    "data": {
                        "text/plain": [
                            "'<html>\\r\\n<head>\\r\\n\\n</head>\\r\\n<body>\\r\\n<div style=\"margin: 50px auto; width: 50%; border: 1px solid #dfdfdf; padding: 20px 50px 30px 50px; font-family:helvetica;\">\\r\\n\\r\\n<h1>We do not allow automated access to our servers.</h1>\\r\\n<h2><p>Automated access to our data is prohibited by our data provider.</p>  \\r\\n<p>If you are a user attempting to access the site via a browser, please follow this process to regain access:</p>\\r\\n\\r\\n<ul>\\r\\n  <li>Go to <a href=\\'https://whatismyipaddress.com/\\' target=\\'_blank\\' rel=\\'noopener noreferrer\\'>whatismyipaddress</a> and obtain your IPv4 address</li>\\r\\n  <li>Email us your IPv4 address at <a href=\"/cdn-cgi/l/email-protection\" class=\"__cf_email__\" data-cfemail=\"4821262e270825292b3a273c3a2d262c3b66262d3c\">[email&#160;protected]</a></li>\\r\\n  <li>We will add you to our whitelist within 24 hours</li>\\r\\n</ul>\\r\\n</h2>\\r\\n</div>\\r\\n<script data-cfasync=\"false\">!function(){\"use strict\";function e(e){try{if(\"undefined\"==typeof console)return;\"error\"in console?console.error(e):console.log(e)}catch(e){}}function t(e,t){var r=e.substr(t,2);return parseInt(r,16)}function r(r,n){for(var c=\"\",o=t(r,n),a=n+2;a<r.length;a+=2){var l=t(r,a)^o;c+=String.fromCharCode(l)}try{c=decodeURIComponent(escape(c))}catch(t){e(t)}return function(e){return i.innerHTML=\\'<a href=\"\\'+e.replace(/\"/g,\"&quot;\")+\\'\"></a>\\',i.childNodes[0].getAttribute(\"href\")||\"\"}(c)}function n(t){try{(function(t){for(var n=t.querySelectorAll(\"a\"),o=0;o<n.length;o++)try{var a=n[o],i=a.href.indexOf(c);i>-1&&(a.href=\"mailto:\"+r(a.href,i+c.length))}catch(t){e(t)}})(t),function(t){for(var n=t.querySelectorAll(o),c=0;c<n.length;c++)try{var i=n[c],l=i.parentNode,u=i.getAttribute(a);if(u){var f=r(u,0),d=document.createTextNode(f);l.replaceChild(d,i)}}catch(t){e(t)}}(t),function(t){for(var r=t.querySelectorAll(\"template\"),c=0;c<r.length;c++)try{n(r[c].content)}catch(t){e(t)}}(t)}catch(t){e(t)}}var c=\"/cdn-cgi/l/email-protection#\",o=\".__cf_email__\",a=\"data-cfemail\",i=document.createElement(\"div\");n(document),function(){var e=document.currentScript||document.scripts[document.scripts.length-1];e.parentNode.removeChild(e)}()}();</script><script>(function(){function c(){var b=a.contentDocument||a.contentWindow.document;if(b){var d=b.createElement(\\'script\\');d.innerHTML=\"window.__CF$cv$params={r:\\'8be5e2b2c80abd8c\\',t:\\'MTcyNTUzNTgwOC4wMDAwMDA=\\'};var a=document.createElement(\\'script\\');a.nonce=\\'\\';a.src=\\'/cdn-cgi/challenge-platform/scripts/jsd/main.js\\';document.getElementsByTagName(\\'head\\')[0].appendChild(a);\";b.getElementsByTagName(\\'head\\')[0].appendChild(d)}}if(document.body){var a=document.createElement(\\'iframe\\');a.height=1;a.width=1;a.style.position=\\'absolute\\';a.style.top=0;a.style.left=0;a.style.border=\\'none\\';a.style.visibility=\\'hidden\\';document.body.appendChild(a);if(\\'loading\\'!==document.readyState)c();else if(window.addEventListener)document.addEventListener(\\'DOMContentLoaded\\',c);else{var e=document.onreadystatechange||function(){};document.onreadystatechange=function(b){e(b);\\'loading\\'!==document.readyState&&(document.onreadystatechange=e,c())}}}})();</script></body>\\r\\n</html>'"
                        ]
                    },
                    "execution_count": 2,
                    "metadata": {},
                    "output_type": "execute_result"
                }
            ],
            "source": [
                "# URL del sitio web que contiene los datos url = \"https://ycharts.com/companies/TSLA/revenues\"\n",
                "url = \"https://www.macrotrends.net/stocks/charts/TSLA/tesla/revenue\"\n",
                "response = requests.get(url, time.sleep(8)).text\n",
                "\n",
                "if \"403 Forbidden\" in response:\n",
                "    headers = {\"User-Agent\": \"Mozilla/5.0 (Macintosh; Intel Mac OS X 10_11_5) AppleWebKit/537.36 (KHTML, like Gecko) Chrome/50.0.2661.102 Safari/537.36\"}\n",
                "    response = requests.get(url, headers = headers)\n",
                "    time.sleep(8)\n",
                "    response = request.text\n",
                "\n",
                "response"
            ]
        },
        {
            "cell_type": "code",
            "execution_count": 3,
            "metadata": {},
            "outputs": [],
            "source": [
                "#url1 = \"https://www.macrotrends.net/stocks/charts/TSLA/tesla/revenue\"\n",
                "#headers = {\"User-Agent\": \"Mozilla/5.0 (Macintosh; Intel Mac OS X 10_11_5) AppleWebKit/537.36 (KHTML, like Gecko) Chrome/50.0.2661.102 Safari/537.36\"}\n",
                "#response1 = requests.get(url, headers= headers)"
            ]
        },
        {
            "cell_type": "markdown",
            "metadata": {},
            "source": [
                "2.TRANSFORMAR EL HTML"
            ]
        },
        {
            "cell_type": "code",
            "execution_count": 4,
            "metadata": {},
            "outputs": [
                {
                    "data": {
                        "text/plain": [
                            "<html>\n",
                            "<head>\n",
                            "</head>\n",
                            "<body>\n",
                            "<div style=\"margin: 50px auto; width: 50%; border: 1px solid #dfdfdf; padding: 20px 50px 30px 50px; font-family:helvetica;\">\n",
                            "<h1>We do not allow automated access to our servers.</h1>\n",
                            "<h2><p>Automated access to our data is prohibited by our data provider.</p>\n",
                            "<p>If you are a user attempting to access the site via a browser, please follow this process to regain access:</p>\n",
                            "<ul>\n",
                            "<li>Go to <a href=\"https://whatismyipaddress.com/\" rel=\"noopener noreferrer\" target=\"_blank\">whatismyipaddress</a> and obtain your IPv4 address</li>\n",
                            "<li>Email us your IPv4 address at <a class=\"__cf_email__\" data-cfemail=\"4821262e270825292b3a273c3a2d262c3b66262d3c\" href=\"/cdn-cgi/l/email-protection\">[email protected]</a></li>\n",
                            "<li>We will add you to our whitelist within 24 hours</li>\n",
                            "</ul>\n",
                            "</h2>\n",
                            "</div>\n",
                            "<script data-cfasync=\"false\">!function(){\"use strict\";function e(e){try{if(\"undefined\"==typeof console)return;\"error\"in console?console.error(e):console.log(e)}catch(e){}}function t(e,t){var r=e.substr(t,2);return parseInt(r,16)}function r(r,n){for(var c=\"\",o=t(r,n),a=n+2;a<r.length;a+=2){var l=t(r,a)^o;c+=String.fromCharCode(l)}try{c=decodeURIComponent(escape(c))}catch(t){e(t)}return function(e){return i.innerHTML='<a href=\"'+e.replace(/\"/g,\"&quot;\")+'\"></a>',i.childNodes[0].getAttribute(\"href\")||\"\"}(c)}function n(t){try{(function(t){for(var n=t.querySelectorAll(\"a\"),o=0;o<n.length;o++)try{var a=n[o],i=a.href.indexOf(c);i>-1&&(a.href=\"mailto:\"+r(a.href,i+c.length))}catch(t){e(t)}})(t),function(t){for(var n=t.querySelectorAll(o),c=0;c<n.length;c++)try{var i=n[c],l=i.parentNode,u=i.getAttribute(a);if(u){var f=r(u,0),d=document.createTextNode(f);l.replaceChild(d,i)}}catch(t){e(t)}}(t),function(t){for(var r=t.querySelectorAll(\"template\"),c=0;c<r.length;c++)try{n(r[c].content)}catch(t){e(t)}}(t)}catch(t){e(t)}}var c=\"/cdn-cgi/l/email-protection#\",o=\".__cf_email__\",a=\"data-cfemail\",i=document.createElement(\"div\");n(document),function(){var e=document.currentScript||document.scripts[document.scripts.length-1];e.parentNode.removeChild(e)}()}();</script><script>(function(){function c(){var b=a.contentDocument||a.contentWindow.document;if(b){var d=b.createElement('script');d.innerHTML=\"window.__CF$cv$params={r:'8be5e2b2c80abd8c',t:'MTcyNTUzNTgwOC4wMDAwMDA='};var a=document.createElement('script');a.nonce='';a.src='/cdn-cgi/challenge-platform/scripts/jsd/main.js';document.getElementsByTagName('head')[0].appendChild(a);\";b.getElementsByTagName('head')[0].appendChild(d)}}if(document.body){var a=document.createElement('iframe');a.height=1;a.width=1;a.style.position='absolute';a.style.top=0;a.style.left=0;a.style.border='none';a.style.visibility='hidden';document.body.appendChild(a);if('loading'!==document.readyState)c();else if(window.addEventListener)document.addEventListener('DOMContentLoaded',c);else{var e=document.onreadystatechange||function(){};document.onreadystatechange=function(b){e(b);'loading'!==document.readyState&&(document.onreadystatechange=e,c())}}}})();</script></body>\n",
                            "</html>"
                        ]
                    },
                    "execution_count": 4,
                    "metadata": {},
                    "output_type": "execute_result"
                }
            ],
            "source": [
                "soup = BeautifulSoup(response, 'html.parser')\n",
                "soup"
            ]
        },
        {
            "cell_type": "code",
            "execution_count": 5,
            "metadata": {},
            "outputs": [
                {
                    "data": {
                        "text/plain": [
                            "[]"
                        ]
                    },
                    "execution_count": 5,
                    "metadata": {},
                    "output_type": "execute_result"
                }
            ],
            "source": [
                "# Find all tables\n",
                "tables = soup.find_all(\"table\")\n",
                "tables"
            ]
        },
        {
            "cell_type": "code",
            "execution_count": 6,
            "metadata": {},
            "outputs": [],
            "source": [
                "table = soup.find('table', class_='tesla-data')\n",
                "table"
            ]
        },
        {
            "cell_type": "code",
            "execution_count": 7,
            "metadata": {},
            "outputs": [],
            "source": [
                "import pandas as pd"
            ]
        },
        {
            "cell_type": "code",
            "execution_count": 18,
            "metadata": {},
            "outputs": [],
            "source": [
                "table_index = None\n",
                "for index, table in enumerate(tables):\n",
                "    if (\"Tesla Quarterly Revenue\" in str(table)):\n",
                "        table_index = index\n",
                "        break\n"
            ]
        },
        {
            "cell_type": "code",
            "execution_count": 21,
            "metadata": {},
            "outputs": [
                {
                    "data": {
                        "text/html": [
                            "<div>\n",
                            "<style scoped>\n",
                            "    .dataframe tbody tr th:only-of-type {\n",
                            "        vertical-align: middle;\n",
                            "    }\n",
                            "\n",
                            "    .dataframe tbody tr th {\n",
                            "        vertical-align: top;\n",
                            "    }\n",
                            "\n",
                            "    .dataframe thead th {\n",
                            "        text-align: right;\n",
                            "    }\n",
                            "</style>\n",
                            "<table border=\"1\" class=\"dataframe\">\n",
                            "  <thead>\n",
                            "    <tr style=\"text-align: right;\">\n",
                            "      <th></th>\n",
                            "      <th>fecha</th>\n",
                            "      <th>beneficios</th>\n",
                            "    </tr>\n",
                            "  </thead>\n",
                            "  <tbody>\n",
                            "  </tbody>\n",
                            "</table>\n",
                            "</div>"
                        ],
                        "text/plain": [
                            "Empty DataFrame\n",
                            "Columns: [fecha, beneficios]\n",
                            "Index: []"
                        ]
                    },
                    "execution_count": 21,
                    "metadata": {},
                    "output_type": "execute_result"
                }
            ],
            "source": [
                "if table_index is not None:\n",
                "    tesla_revenue_table = pd.DataFrame(columns=['fecha', 'beneficios'])\n",
                "    for row in tables[table_index].tbody.find_all('tr'):\n",
                "        col = row.find_all('td')\n",
                "        if col != []:\n",
                "            fecha = col[0].text\n",
                "            beneficios = col[1].text.replace('$', '').replace(',', '')\n",
                "            tesla_revenue_table = pd.concat([tesla_revenue_table, pd.DataFrame({\n",
                "                'fecha': fecha,\n",
                "                'beneficios': beneficios},\n",
                "                index=[0])], ignore_index=True)\n",
                "    \n",
                "        \n",
                "tesla_revenue_table.head()"
            ]
        },
        {
            "cell_type": "code",
            "execution_count": null,
            "metadata": {},
            "outputs": [
                {
                    "ename": "NameError",
                    "evalue": "name 'table_index' is not defined",
                    "output_type": "error",
                    "traceback": [
                        "\u001b[0;31m---------------------------------------------------------------------------\u001b[0m",
                        "\u001b[0;31mNameError\u001b[0m                                 Traceback (most recent call last)",
                        "Cell \u001b[0;32mIn[20], line 3\u001b[0m\n\u001b[1;32m      1\u001b[0m \u001b[38;5;66;03m# Create a DataFrame\u001b[39;00m\n\u001b[1;32m      2\u001b[0m tesla_revenue \u001b[38;5;241m=\u001b[39m pd\u001b[38;5;241m.\u001b[39mDataFrame(columns \u001b[38;5;241m=\u001b[39m [\u001b[38;5;124m\"\u001b[39m\u001b[38;5;124mDate\u001b[39m\u001b[38;5;124m\"\u001b[39m, \u001b[38;5;124m\"\u001b[39m\u001b[38;5;124mRevenue\u001b[39m\u001b[38;5;124m\"\u001b[39m])\n\u001b[0;32m----> 3\u001b[0m \u001b[38;5;28;01mfor\u001b[39;00m row \u001b[38;5;129;01min\u001b[39;00m table[\u001b[43mtable_index\u001b[49m]\u001b[38;5;241m.\u001b[39mtbody\u001b[38;5;241m.\u001b[39mfind_all(\u001b[38;5;124m\"\u001b[39m\u001b[38;5;124mtr\u001b[39m\u001b[38;5;124m\"\u001b[39m):\n\u001b[1;32m      4\u001b[0m     col \u001b[38;5;241m=\u001b[39m row\u001b[38;5;241m.\u001b[39mfind_all(\u001b[38;5;124m\"\u001b[39m\u001b[38;5;124mtd\u001b[39m\u001b[38;5;124m\"\u001b[39m)\n\u001b[1;32m      5\u001b[0m     \u001b[38;5;28;01mif\u001b[39;00m (col \u001b[38;5;241m!=\u001b[39m []):\n",
                        "\u001b[0;31mNameError\u001b[0m: name 'table_index' is not defined"
                    ]
                }
            ],
            "source": [
                "# Create a DataFrame\n",
                "tesla_revenue = pd.DataFrame(columns = [\"Date\", \"Revenue\"])\n",
                "for row in table[table_index].tbody.find_all(\"tr\"):\n",
                "    col = row.find_all(\"td\")\n",
                "    if (col != []):\n",
                "        Date = col[0].text\n",
                "        Revenue = col[1].text.replace(\"$\", \"\").replace(\",\", \"\")\n",
                "        tesla_revenue = pd.concat([tesla_revenue, pd.DataFrame({\n",
                "            \"Date\": Date,\n",
                "            \"Revenue\": Revenue\n",
                "        }, index = [0])], ignore_index = True)\n",
                "\n",
                "tesla_revenue.head()"
            ]
        },
        {
            "cell_type": "code",
            "execution_count": null,
            "metadata": {},
            "outputs": [],
            "source": [
                "for cita in quotes:\n",
                "  texto_cita = cita.find('span', class_='text').get_text()\n",
                "  autor = cita.find('small', class_='author').get_text()\n",
                "  print(f'Cita: {texto_cita}')\n",
                "  print(f'Autor: {autor}')\n",
                "  print('-'*50)"
            ]
        },
        {
            "cell_type": "code",
            "execution_count": null,
            "metadata": {},
            "outputs": [],
            "source": [
                "data = []\n",
                "if response1.status_code==200:\n",
                "  soup = BeautifulSoup(response1.content, 'html.parser')\n",
                "  anuncios = soup.find_all('li', class_=\"cl-static-search-result\")\n",
                "  for anuncio in anuncios:\n",
                "    titulo = anuncio.find('div', class_='title').get_text()\n",
                "    localizacion = anuncio.find('div', class_='location').get_text().strip()\n",
                "    precio = float(anuncio.find('div', class_='price').get_text().replace('$','').replace(',',''))\n",
                "    data.append((titulo,localizacion,precio))\n",
                "    df_anuncios = pd.DataFrame(data, columns=['Title', 'Location', 'Price'])\n",
                "else:\n",
                "  print('Status code distinto a 200')"
            ]
        },
        {
            "cell_type": "code",
            "execution_count": null,
            "metadata": {},
            "outputs": [],
            "source": []
        }
    ],
    "metadata": {
        "kernelspec": {
            "display_name": "Python 3.8.13 64-bit ('3.8.13')",
            "language": "python",
            "name": "python3"
        },
        "language_info": {
            "codemirror_mode": {
                "name": "ipython",
                "version": 3
            },
            "file_extension": ".py",
            "mimetype": "text/x-python",
            "name": "python",
            "nbconvert_exporter": "python",
            "pygments_lexer": "ipython3",
            "version": "3.11.4"
        },
        "orig_nbformat": 4,
        "vscode": {
            "interpreter": {
                "hash": "110cc1dee26208153f2972f08a2ad52b6a56238dc66d48e87fb757ef2996db56"
            }
        }
    },
    "nbformat": 4,
    "nbformat_minor": 2
}
